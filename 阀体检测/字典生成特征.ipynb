{
 "cells": [
  {
   "cell_type": "code",
   "execution_count": 24,
   "id": "2be1cd2d",
   "metadata": {},
   "outputs": [],
   "source": [
    "import pandas as pd\n",
    "import os\n",
    "from tqdm import tqdm\n",
    "import numpy as np\n",
    "import joblib\n",
    "import scipy.stats as stats\n",
    "from lightgbm import LGBMClassifier"
   ]
  },
  {
   "cell_type": "code",
   "execution_count": 15,
   "id": "c1e39da0",
   "metadata": {},
   "outputs": [],
   "source": [
    "column_list = []\n",
    "column_list.append('id')\n",
    "for i in range(401):\n",
    "    column_list.append(f'{i}_mean')\n",
    "    column_list.append(f'{i}_min')    \n",
    "    column_list.append(f'{i}_max')    \n",
    "    column_list.append(f'{i}_std')    \n",
    "column_list.append('label')"
   ]
  },
  {
   "cell_type": "markdown",
   "id": "e9c2a624",
   "metadata": {
    "heading_collapsed": true
   },
   "source": [
    "# 生成NG样本特征"
   ]
  },
  {
   "cell_type": "markdown",
   "id": "418ab227",
   "metadata": {
    "hidden": true
   },
   "source": [
    "## 4个特征"
   ]
  },
  {
   "cell_type": "code",
   "execution_count": 27,
   "id": "665109ad",
   "metadata": {
    "hidden": true
   },
   "outputs": [
    {
     "name": "stderr",
     "output_type": "stream",
     "text": [
      "100%|██████████████████████████████████████████████████████████████████████████████████| 14/14 [00:34<00:00,  2.43s/it]\n"
     ]
    }
   ],
   "source": [
    "data_dict = {}\n",
    "feature_dic = joblib.load('./feature.dic')\n",
    "feature_names = [f\"{i}_{op}\" for i in range(401) for op in [\"mean\", \"min\", \"max\", \"std\"]]\n",
    "\n",
    "for i in tqdm(range(0, 140, 10)):\n",
    "    folder = f\"../data/NG/P{1000 + i}/\"\n",
    "    for feature_name in os.listdir(folder):\n",
    "        feature_index = feature_dic[f\"{folder.split('/')[-2]}/{feature_name}\"]\n",
    "        for feature_csv in os.listdir(folder + feature_name):\n",
    "            id_ = feature_csv\n",
    "            csv_num = np.array(pd.read_csv(folder + feature_name + '/' + feature_csv))\n",
    "            if len(csv_num) != 0:\n",
    "                feature_values = (csv_num.mean(), csv_num.min(), csv_num.max(), csv_num.std())\n",
    "            else:\n",
    "                feature_values = (None, None, None, None)\n",
    "            if id_ not in data_dict:\n",
    "                data_dict[id_] = [id_] + [None] * len(feature_names)\n",
    "            data_dict[id_][feature_index*4+1:(feature_index+1)*4+1] = feature_values\n",
    "\n",
    "data_NG = pd.DataFrame.from_records(list(data_dict.values()), columns=[\"id\"] + feature_names)\n"
   ]
  },
  {
   "cell_type": "markdown",
   "id": "b748a704",
   "metadata": {
    "hidden": true
   },
   "source": [
    "## 6个特征"
   ]
  },
  {
   "cell_type": "code",
   "execution_count": 29,
   "id": "6d4b85ba",
   "metadata": {
    "hidden": true
   },
   "outputs": [
    {
     "name": "stderr",
     "output_type": "stream",
     "text": [
      "100%|██████████| 14/14 [01:04<00:00,  4.63s/it]\n"
     ]
    }
   ],
   "source": [
    "num_fea = 9\n",
    "data_dict = {}\n",
    "feature_dic = joblib.load('../data/feature.dic')\n",
    "feature_names = [f\"{i}_{op}\" for i in range(401) for op in [\"mean\", \"min\", \"max\", \"std\",'sum','ptp','lenth','kurtosis','skew']]\n",
    "\n",
    "for i in tqdm(range(0, 140, 10)):\n",
    "    folder = f\"../data/NG/P{1000 + i}/\"\n",
    "    for feature_name in os.listdir(folder):\n",
    "        feature_index = feature_dic[f\"{folder.split('/')[-2]}/{feature_name}\"]\n",
    "        for feature_csv in os.listdir(folder + feature_name):\n",
    "            id_ = feature_csv\n",
    "            csv_num = np.array(pd.read_csv(folder + feature_name + '/' + feature_csv))\n",
    "            if len(csv_num) != 0:\n",
    "                feature_values = (csv_num.mean(), csv_num.min(), csv_num.max(), csv_num.std(),csv_num.sum(),np.ptp(csv_num),len(csv_num),stats.kurtosis(csv_num)[0],stats.skew(csv_num)[0])\n",
    "            else:\n",
    "                feature_values = (None, None, None, None, None, None,None,None,None)\n",
    "            if id_ not in data_dict:\n",
    "                data_dict[id_] = [id_] + [None] * len(feature_names)\n",
    "            data_dict[id_][feature_index*num_fea+1:(feature_index+1)*num_fea+1] = feature_values\n",
    "\n",
    "data_NG = pd.DataFrame.from_records(list(data_dict.values()), columns=[\"id\"] + feature_names)\n"
   ]
  },
  {
   "cell_type": "code",
   "execution_count": 32,
   "id": "2f7adfe8",
   "metadata": {
    "hidden": true
   },
   "outputs": [],
   "source": [
    "data_NG['label']=1"
   ]
  },
  {
   "cell_type": "markdown",
   "id": "504917d6",
   "metadata": {
    "heading_collapsed": true
   },
   "source": [
    "# 生成OK样本特征"
   ]
  },
  {
   "cell_type": "markdown",
   "id": "3c78cbac",
   "metadata": {
    "heading_collapsed": true,
    "hidden": true
   },
   "source": [
    "## 4个特征"
   ]
  },
  {
   "cell_type": "code",
   "execution_count": 55,
   "id": "365b6f58",
   "metadata": {
    "collapsed": true,
    "hidden": true
   },
   "outputs": [
    {
     "name": "stderr",
     "output_type": "stream",
     "text": [
      "100%|██████████████████████████████████████████████████████████████████████████████████| 14/14 [01:06<00:00,  4.75s/it]\n"
     ]
    },
    {
     "ename": "TypeError",
     "evalue": "'dict_values' object is not subscriptable",
     "output_type": "error",
     "traceback": [
      "\u001b[1;31m---------------------------------------------------------------------------\u001b[0m",
      "\u001b[1;31mTypeError\u001b[0m                                 Traceback (most recent call last)",
      "\u001b[1;32m~\\AppData\\Local\\Temp\\ipykernel_14680\\4135871840.py\u001b[0m in \u001b[0;36m<module>\u001b[1;34m\u001b[0m\n\u001b[0;32m     24\u001b[0m         \u001b[1;32mbreak\u001b[0m\u001b[1;33m\u001b[0m\u001b[1;33m\u001b[0m\u001b[0m\n\u001b[0;32m     25\u001b[0m \u001b[1;33m\u001b[0m\u001b[0m\n\u001b[1;32m---> 26\u001b[1;33m \u001b[0mdata_OK\u001b[0m \u001b[1;33m=\u001b[0m \u001b[0mpd\u001b[0m\u001b[1;33m.\u001b[0m\u001b[0mDataFrame\u001b[0m\u001b[1;33m.\u001b[0m\u001b[0mfrom_records\u001b[0m\u001b[1;33m(\u001b[0m\u001b[0mdata_dict\u001b[0m\u001b[1;33m.\u001b[0m\u001b[0mvalues\u001b[0m\u001b[1;33m(\u001b[0m\u001b[1;33m)\u001b[0m\u001b[1;33m,\u001b[0m \u001b[0mcolumns\u001b[0m\u001b[1;33m=\u001b[0m\u001b[1;33m[\u001b[0m\u001b[1;34m\"id\"\u001b[0m\u001b[1;33m]\u001b[0m \u001b[1;33m+\u001b[0m \u001b[0mfeature_names\u001b[0m\u001b[1;33m)\u001b[0m\u001b[1;33m\u001b[0m\u001b[1;33m\u001b[0m\u001b[0m\n\u001b[0m",
      "\u001b[1;32mD:\\Learn\\Anaconda\\envs\\xuelang\\lib\\site-packages\\pandas\\core\\frame.py\u001b[0m in \u001b[0;36mfrom_records\u001b[1;34m(cls, data, index, exclude, columns, coerce_float, nrows)\u001b[0m\n\u001b[0;32m   1789\u001b[0m             \u001b[0marr_columns\u001b[0m \u001b[1;33m=\u001b[0m \u001b[0mcolumns\u001b[0m\u001b[1;33m\u001b[0m\u001b[1;33m\u001b[0m\u001b[0m\n\u001b[0;32m   1790\u001b[0m         \u001b[1;32melse\u001b[0m\u001b[1;33m:\u001b[0m\u001b[1;33m\u001b[0m\u001b[1;33m\u001b[0m\u001b[0m\n\u001b[1;32m-> 1791\u001b[1;33m             \u001b[0marrays\u001b[0m\u001b[1;33m,\u001b[0m \u001b[0marr_columns\u001b[0m \u001b[1;33m=\u001b[0m \u001b[0mto_arrays\u001b[0m\u001b[1;33m(\u001b[0m\u001b[0mdata\u001b[0m\u001b[1;33m,\u001b[0m \u001b[0mcolumns\u001b[0m\u001b[1;33m,\u001b[0m \u001b[0mcoerce_float\u001b[0m\u001b[1;33m=\u001b[0m\u001b[0mcoerce_float\u001b[0m\u001b[1;33m)\u001b[0m\u001b[1;33m\u001b[0m\u001b[1;33m\u001b[0m\u001b[0m\n\u001b[0m\u001b[0;32m   1792\u001b[0m \u001b[1;33m\u001b[0m\u001b[0m\n\u001b[0;32m   1793\u001b[0m             \u001b[0marr_columns\u001b[0m \u001b[1;33m=\u001b[0m \u001b[0mensure_index\u001b[0m\u001b[1;33m(\u001b[0m\u001b[0marr_columns\u001b[0m\u001b[1;33m)\u001b[0m\u001b[1;33m\u001b[0m\u001b[1;33m\u001b[0m\u001b[0m\n",
      "\u001b[1;32mD:\\Learn\\Anaconda\\envs\\xuelang\\lib\\site-packages\\pandas\\core\\internals\\construction.py\u001b[0m in \u001b[0;36mto_arrays\u001b[1;34m(data, columns, coerce_float, dtype)\u001b[0m\n\u001b[0;32m    521\u001b[0m                 \u001b[1;32mreturn\u001b[0m \u001b[1;33m[\u001b[0m\u001b[1;33m[\u001b[0m\u001b[1;33m]\u001b[0m\u001b[1;33m]\u001b[0m \u001b[1;33m*\u001b[0m \u001b[0mlen\u001b[0m\u001b[1;33m(\u001b[0m\u001b[0mcolumns\u001b[0m\u001b[1;33m)\u001b[0m\u001b[1;33m,\u001b[0m \u001b[0mcolumns\u001b[0m\u001b[1;33m\u001b[0m\u001b[1;33m\u001b[0m\u001b[0m\n\u001b[0;32m    522\u001b[0m         \u001b[1;32mreturn\u001b[0m \u001b[1;33m[\u001b[0m\u001b[1;33m]\u001b[0m\u001b[1;33m,\u001b[0m \u001b[1;33m[\u001b[0m\u001b[1;33m]\u001b[0m  \u001b[1;31m# columns if columns is not None else []\u001b[0m\u001b[1;33m\u001b[0m\u001b[1;33m\u001b[0m\u001b[0m\n\u001b[1;32m--> 523\u001b[1;33m     \u001b[1;32mif\u001b[0m \u001b[0misinstance\u001b[0m\u001b[1;33m(\u001b[0m\u001b[0mdata\u001b[0m\u001b[1;33m[\u001b[0m\u001b[1;36m0\u001b[0m\u001b[1;33m]\u001b[0m\u001b[1;33m,\u001b[0m \u001b[1;33m(\u001b[0m\u001b[0mlist\u001b[0m\u001b[1;33m,\u001b[0m \u001b[0mtuple\u001b[0m\u001b[1;33m)\u001b[0m\u001b[1;33m)\u001b[0m\u001b[1;33m:\u001b[0m\u001b[1;33m\u001b[0m\u001b[1;33m\u001b[0m\u001b[0m\n\u001b[0m\u001b[0;32m    524\u001b[0m         \u001b[1;32mreturn\u001b[0m \u001b[0m_list_to_arrays\u001b[0m\u001b[1;33m(\u001b[0m\u001b[0mdata\u001b[0m\u001b[1;33m,\u001b[0m \u001b[0mcolumns\u001b[0m\u001b[1;33m,\u001b[0m \u001b[0mcoerce_float\u001b[0m\u001b[1;33m=\u001b[0m\u001b[0mcoerce_float\u001b[0m\u001b[1;33m,\u001b[0m \u001b[0mdtype\u001b[0m\u001b[1;33m=\u001b[0m\u001b[0mdtype\u001b[0m\u001b[1;33m)\u001b[0m\u001b[1;33m\u001b[0m\u001b[1;33m\u001b[0m\u001b[0m\n\u001b[0;32m    525\u001b[0m     \u001b[1;32melif\u001b[0m \u001b[0misinstance\u001b[0m\u001b[1;33m(\u001b[0m\u001b[0mdata\u001b[0m\u001b[1;33m[\u001b[0m\u001b[1;36m0\u001b[0m\u001b[1;33m]\u001b[0m\u001b[1;33m,\u001b[0m \u001b[0mabc\u001b[0m\u001b[1;33m.\u001b[0m\u001b[0mMapping\u001b[0m\u001b[1;33m)\u001b[0m\u001b[1;33m:\u001b[0m\u001b[1;33m\u001b[0m\u001b[1;33m\u001b[0m\u001b[0m\n",
      "\u001b[1;31mTypeError\u001b[0m: 'dict_values' object is not subscriptable"
     ]
    }
   ],
   "source": [
    "data_dict = {}\n",
    "feature_dic = joblib.load('./feature.dic')\n",
    "feature_names = [f\"{i}_{op}\" for i in range(401) for op in [\"mean\", \"min\", \"max\", \"std\"]]\n",
    "\n",
    "for i in tqdm(range(0, 140, 10)):\n",
    "    folder = f\"../data/OK/P{1000 + i}/\"\n",
    "    for feature_name in os.listdir(folder):\n",
    "        feature_index = feature_dic[f\"{folder.split('/')[-2]}/{feature_name}\"]\n",
    "        for feature_csv in os.listdir(folder + feature_name):\n",
    "            id_ = feature_csv\n",
    "            csv_num = np.array(pd.read_csv(folder + feature_name + '/' + feature_csv))\n",
    "            if len(csv_num) != 0:\n",
    "                feature_values = (csv_num.mean(), csv_num.min(), csv_num.max(), csv_num.std())\n",
    "            else:\n",
    "                feature_values = (None, None, None, None)\n",
    "            if id_ not in data_dict:\n",
    "                data_dict[id_] = [id_] + [None] * len(feature_names)\n",
    "            data_dict[id_][feature_index*4+1:(feature_index+1)*4+1] = feature_values\n",
    "\n",
    "data_OK = pd.DataFrame.from_records(list(data_dict.values()), columns=[\"id\"] + feature_names)"
   ]
  },
  {
   "cell_type": "markdown",
   "id": "693b0a6f",
   "metadata": {
    "hidden": true
   },
   "source": [
    "## 6个特征"
   ]
  },
  {
   "cell_type": "code",
   "execution_count": 36,
   "id": "c734e95f",
   "metadata": {
    "hidden": true,
    "scrolled": true
   },
   "outputs": [
    {
     "name": "stderr",
     "output_type": "stream",
     "text": [
      "100%|██████████| 14/14 [30:21<00:00, 130.09s/it]\n"
     ]
    }
   ],
   "source": [
    "num_fea = 9\n",
    "data_dict = {}\n",
    "feature_dic = joblib.load('../data/feature.dic')\n",
    "feature_names = [f\"{i}_{op}\" for i in range(401) for op in [\"mean\", \"min\", \"max\", \"std\",'sum','ptp','lenth','kurtosis','skew']]\n",
    "\n",
    "for i in tqdm(range(0, 140, 10)):\n",
    "    folder = f\"../data/OK/P{1000 + i}/\"\n",
    "    for feature_name in os.listdir(folder):\n",
    "        feature_index = feature_dic[f\"{folder.split('/')[-2]}/{feature_name}\"]\n",
    "        for feature_csv in os.listdir(folder + feature_name):\n",
    "            id_ = feature_csv\n",
    "            csv_num = np.array(pd.read_csv(folder + feature_name + '/' + feature_csv))\n",
    "            if len(csv_num) != 0:\n",
    "                feature_values = (csv_num.mean(), csv_num.min(), csv_num.max(), csv_num.std(),csv_num.sum(),np.ptp(csv_num),len(csv_num),stats.kurtosis(csv_num)[0],stats.skew(csv_num)[0])\n",
    "            else:\n",
    "                feature_values = (None, None, None, None, None, None,None,None,None)\n",
    "            if id_ not in data_dict:\n",
    "                data_dict[id_] = [id_] + [None] * len(feature_names)\n",
    "            data_dict[id_][feature_index*num_fea+1:(feature_index+1)*num_fea+1] = feature_values\n",
    "data_OK = pd.DataFrame.from_records(list(data_dict.values()), columns=[\"id\"] + feature_names)\n"
   ]
  },
  {
   "cell_type": "code",
   "execution_count": 37,
   "id": "d9ca4866",
   "metadata": {
    "hidden": true
   },
   "outputs": [],
   "source": [
    "data_OK['label']=0"
   ]
  },
  {
   "cell_type": "code",
   "execution_count": 38,
   "id": "18e05b83",
   "metadata": {
    "hidden": true
   },
   "outputs": [],
   "source": [
    "all_data = pd.concat([data_NG,data_OK],axis=0)"
   ]
  },
  {
   "cell_type": "code",
   "execution_count": 40,
   "id": "e27fedc8",
   "metadata": {
    "hidden": true
   },
   "outputs": [],
   "source": [
    "all_data.to_csv('../data/all_data_9feas.csv',index=False)"
   ]
  },
  {
   "cell_type": "markdown",
   "id": "d3c5b270",
   "metadata": {},
   "source": [
    "# 测试"
   ]
  },
  {
   "cell_type": "code",
   "execution_count": 14,
   "id": "3233e99b",
   "metadata": {},
   "outputs": [],
   "source": [
    "data_dict = {}\n",
    "coloums_list = joblib.load('../data/coloums_list')[:-1]\n",
    "feature_dic = joblib.load('../data/feature.dic')\n",
    "feature_names = [f\"{i}_{op}\" for i in range(401) for op in [\"mean\", \"min\", \"max\", \"std\"]]\n",
    "moved = coloums_list[-4:]"
   ]
  },
  {
   "cell_type": "code",
   "execution_count": 15,
   "id": "bbd6cc6b",
   "metadata": {},
   "outputs": [],
   "source": [
    "prefix = []\n",
    "for i in coloums_list:\n",
    "    prefix.append(int(i.split('_')[0]))"
   ]
  },
  {
   "cell_type": "code",
   "execution_count": 16,
   "id": "3dc106c6",
   "metadata": {},
   "outputs": [],
   "source": [
    "prefix = list(set(prefix))"
   ]
  },
  {
   "cell_type": "code",
   "execution_count": 17,
   "id": "242a08a0",
   "metadata": {},
   "outputs": [
    {
     "name": "stderr",
     "output_type": "stream",
     "text": [
      "100%|██████████████████████████████████████████████████████████████████████████████████| 14/14 [00:06<00:00,  2.02it/s]\n"
     ]
    }
   ],
   "source": [
    "for i in tqdm(range(0, 140, 10)):\n",
    "    folder = f\"../data/NG/P{1000 + i}/\"\n",
    "    for feature_name in os.listdir(folder):\n",
    "        feature_index = feature_dic[f\"{folder.split('/')[-2]}/{feature_name}\"]\n",
    "        if(feature_index in prefix):\n",
    "            for feature_csv in os.listdir(folder + feature_name):\n",
    "                id_ = feature_csv\n",
    "                csv_num = np.array(pd.read_csv(folder + feature_name + '/' + feature_csv))\n",
    "                if len(csv_num) != 0:\n",
    "                    feature_values = (csv_num.mean(), csv_num.min(), csv_num.max(), csv_num.std())\n",
    "                else:\n",
    "                    feature_values = (None, None, None, None)\n",
    "                if id_ not in data_dict:\n",
    "                    data_dict[id_] = [id_] + [None] * len(feature_names)\n",
    "                data_dict[id_][feature_index*4+1:(feature_index+1)*4+1] = feature_values\n",
    "\n",
    "data_NG = pd.DataFrame.from_records(list(data_dict.values()), columns=[\"id\"] + feature_names)"
   ]
  },
  {
   "cell_type": "code",
   "execution_count": 18,
   "id": "4088dfbe",
   "metadata": {},
   "outputs": [],
   "source": [
    "true_feature_names = [f\"{i}_{op}\" for i in prefix for op in [\"mean\", \"min\", \"max\", \"std\"]]\n",
    "true_feature_names.append('id')"
   ]
  },
  {
   "cell_type": "code",
   "execution_count": 19,
   "id": "a22aaffc",
   "metadata": {},
   "outputs": [
    {
     "data": {
      "text/html": [
       "<div>\n",
       "<style scoped>\n",
       "    .dataframe tbody tr th:only-of-type {\n",
       "        vertical-align: middle;\n",
       "    }\n",
       "\n",
       "    .dataframe tbody tr th {\n",
       "        vertical-align: top;\n",
       "    }\n",
       "\n",
       "    .dataframe thead th {\n",
       "        text-align: right;\n",
       "    }\n",
       "</style>\n",
       "<table border=\"1\" class=\"dataframe\">\n",
       "  <thead>\n",
       "    <tr style=\"text-align: right;\">\n",
       "      <th></th>\n",
       "      <th>3_mean</th>\n",
       "      <th>3_min</th>\n",
       "      <th>3_max</th>\n",
       "      <th>3_std</th>\n",
       "      <th>4_mean</th>\n",
       "      <th>4_min</th>\n",
       "      <th>4_max</th>\n",
       "      <th>4_std</th>\n",
       "      <th>389_mean</th>\n",
       "      <th>389_min</th>\n",
       "      <th>...</th>\n",
       "      <th>252_std</th>\n",
       "      <th>381_mean</th>\n",
       "      <th>381_min</th>\n",
       "      <th>381_max</th>\n",
       "      <th>381_std</th>\n",
       "      <th>127_mean</th>\n",
       "      <th>127_min</th>\n",
       "      <th>127_max</th>\n",
       "      <th>127_std</th>\n",
       "      <th>id</th>\n",
       "    </tr>\n",
       "  </thead>\n",
       "  <tbody>\n",
       "    <tr>\n",
       "      <th>0</th>\n",
       "      <td>55.509217</td>\n",
       "      <td>55.400468</td>\n",
       "      <td>55.635555</td>\n",
       "      <td>0.033358</td>\n",
       "      <td>159.423954</td>\n",
       "      <td>158.683011</td>\n",
       "      <td>160.311215</td>\n",
       "      <td>0.276533</td>\n",
       "      <td>159.306343</td>\n",
       "      <td>156.477721</td>\n",
       "      <td>...</td>\n",
       "      <td>239.669899</td>\n",
       "      <td>159.314369</td>\n",
       "      <td>158.415078</td>\n",
       "      <td>160.290605</td>\n",
       "      <td>0.262876</td>\n",
       "      <td>55.752805</td>\n",
       "      <td>55.406909</td>\n",
       "      <td>56.128272</td>\n",
       "      <td>0.041413</td>\n",
       "      <td>TSA43005104F00NG200553~T05~20220721162607_NOK_...</td>\n",
       "    </tr>\n",
       "    <tr>\n",
       "      <th>1</th>\n",
       "      <td>56.123194</td>\n",
       "      <td>55.973694</td>\n",
       "      <td>56.324715</td>\n",
       "      <td>0.033768</td>\n",
       "      <td>159.768782</td>\n",
       "      <td>158.889112</td>\n",
       "      <td>160.496707</td>\n",
       "      <td>0.271668</td>\n",
       "      <td>159.587332</td>\n",
       "      <td>158.126536</td>\n",
       "      <td>...</td>\n",
       "      <td>299.724315</td>\n",
       "      <td>159.596877</td>\n",
       "      <td>158.250197</td>\n",
       "      <td>160.640978</td>\n",
       "      <td>0.297429</td>\n",
       "      <td>55.142437</td>\n",
       "      <td>54.772496</td>\n",
       "      <td>55.735387</td>\n",
       "      <td>0.046296</td>\n",
       "      <td>TSA43005104F00NG200654~T05~20220721180723_NOK_...</td>\n",
       "    </tr>\n",
       "    <tr>\n",
       "      <th>2</th>\n",
       "      <td>55.421421</td>\n",
       "      <td>55.274874</td>\n",
       "      <td>55.542165</td>\n",
       "      <td>0.034044</td>\n",
       "      <td>159.365958</td>\n",
       "      <td>158.579960</td>\n",
       "      <td>160.414266</td>\n",
       "      <td>0.284943</td>\n",
       "      <td>NaN</td>\n",
       "      <td>NaN</td>\n",
       "      <td>...</td>\n",
       "      <td>305.569488</td>\n",
       "      <td>NaN</td>\n",
       "      <td>NaN</td>\n",
       "      <td>NaN</td>\n",
       "      <td>NaN</td>\n",
       "      <td>55.511204</td>\n",
       "      <td>54.930294</td>\n",
       "      <td>55.889965</td>\n",
       "      <td>0.041724</td>\n",
       "      <td>TSA43005104F00NG200935~T05~20220721210606_NOK_...</td>\n",
       "    </tr>\n",
       "    <tr>\n",
       "      <th>3</th>\n",
       "      <td>55.513786</td>\n",
       "      <td>55.329620</td>\n",
       "      <td>55.619454</td>\n",
       "      <td>0.033745</td>\n",
       "      <td>159.205046</td>\n",
       "      <td>158.188366</td>\n",
       "      <td>160.228774</td>\n",
       "      <td>0.259936</td>\n",
       "      <td>159.184998</td>\n",
       "      <td>157.837993</td>\n",
       "      <td>...</td>\n",
       "      <td>303.663750</td>\n",
       "      <td>159.193566</td>\n",
       "      <td>158.250197</td>\n",
       "      <td>160.723419</td>\n",
       "      <td>0.255013</td>\n",
       "      <td>55.546118</td>\n",
       "      <td>54.930294</td>\n",
       "      <td>56.102509</td>\n",
       "      <td>0.042227</td>\n",
       "      <td>TSA43005104F00NG210131~T05~20220722024158_NOK_...</td>\n",
       "    </tr>\n",
       "    <tr>\n",
       "      <th>4</th>\n",
       "      <td>55.322995</td>\n",
       "      <td>55.223348</td>\n",
       "      <td>55.451994</td>\n",
       "      <td>0.032983</td>\n",
       "      <td>159.241237</td>\n",
       "      <td>158.579960</td>\n",
       "      <td>160.105113</td>\n",
       "      <td>0.246394</td>\n",
       "      <td>NaN</td>\n",
       "      <td>NaN</td>\n",
       "      <td>...</td>\n",
       "      <td>NaN</td>\n",
       "      <td>NaN</td>\n",
       "      <td>NaN</td>\n",
       "      <td>NaN</td>\n",
       "      <td>NaN</td>\n",
       "      <td>55.475696</td>\n",
       "      <td>55.113855</td>\n",
       "      <td>56.054204</td>\n",
       "      <td>0.041050</td>\n",
       "      <td>TSA43005104F00NG210638~T05~20220722154535_NOK_...</td>\n",
       "    </tr>\n",
       "    <tr>\n",
       "      <th>...</th>\n",
       "      <td>...</td>\n",
       "      <td>...</td>\n",
       "      <td>...</td>\n",
       "      <td>...</td>\n",
       "      <td>...</td>\n",
       "      <td>...</td>\n",
       "      <td>...</td>\n",
       "      <td>...</td>\n",
       "      <td>...</td>\n",
       "      <td>...</td>\n",
       "      <td>...</td>\n",
       "      <td>...</td>\n",
       "      <td>...</td>\n",
       "      <td>...</td>\n",
       "      <td>...</td>\n",
       "      <td>...</td>\n",
       "      <td>...</td>\n",
       "      <td>...</td>\n",
       "      <td>...</td>\n",
       "      <td>...</td>\n",
       "      <td>...</td>\n",
       "    </tr>\n",
       "    <tr>\n",
       "      <th>79</th>\n",
       "      <td>46.855256</td>\n",
       "      <td>46.734465</td>\n",
       "      <td>46.985653</td>\n",
       "      <td>0.032238</td>\n",
       "      <td>159.601813</td>\n",
       "      <td>158.744841</td>\n",
       "      <td>160.352436</td>\n",
       "      <td>0.264746</td>\n",
       "      <td>159.594202</td>\n",
       "      <td>158.497519</td>\n",
       "      <td>...</td>\n",
       "      <td>301.332354</td>\n",
       "      <td>159.605724</td>\n",
       "      <td>158.250197</td>\n",
       "      <td>160.991351</td>\n",
       "      <td>0.278761</td>\n",
       "      <td>47.350082</td>\n",
       "      <td>46.718363</td>\n",
       "      <td>47.951761</td>\n",
       "      <td>0.051680</td>\n",
       "      <td>TSA43005120C00NG310204~T05~20220731093318_NOK_...</td>\n",
       "    </tr>\n",
       "    <tr>\n",
       "      <th>80</th>\n",
       "      <td>47.521933</td>\n",
       "      <td>47.355994</td>\n",
       "      <td>47.668369</td>\n",
       "      <td>0.033205</td>\n",
       "      <td>159.530707</td>\n",
       "      <td>158.662400</td>\n",
       "      <td>160.373046</td>\n",
       "      <td>0.287754</td>\n",
       "      <td>NaN</td>\n",
       "      <td>NaN</td>\n",
       "      <td>...</td>\n",
       "      <td>301.982416</td>\n",
       "      <td>NaN</td>\n",
       "      <td>NaN</td>\n",
       "      <td>NaN</td>\n",
       "      <td>NaN</td>\n",
       "      <td>48.039345</td>\n",
       "      <td>47.655488</td>\n",
       "      <td>48.657021</td>\n",
       "      <td>0.049043</td>\n",
       "      <td>TSA43005120C00NG310271~T05~20220731095241_NOK_...</td>\n",
       "    </tr>\n",
       "    <tr>\n",
       "      <th>81</th>\n",
       "      <td>47.520944</td>\n",
       "      <td>47.391418</td>\n",
       "      <td>47.707014</td>\n",
       "      <td>0.033517</td>\n",
       "      <td>159.585619</td>\n",
       "      <td>158.786061</td>\n",
       "      <td>160.311215</td>\n",
       "      <td>0.274192</td>\n",
       "      <td>NaN</td>\n",
       "      <td>NaN</td>\n",
       "      <td>...</td>\n",
       "      <td>NaN</td>\n",
       "      <td>NaN</td>\n",
       "      <td>NaN</td>\n",
       "      <td>NaN</td>\n",
       "      <td>NaN</td>\n",
       "      <td>48.057023</td>\n",
       "      <td>47.500911</td>\n",
       "      <td>48.431595</td>\n",
       "      <td>0.050972</td>\n",
       "      <td>TSA43005120C00NG310282~T05~20220731095523_NOK_...</td>\n",
       "    </tr>\n",
       "    <tr>\n",
       "      <th>82</th>\n",
       "      <td>47.452814</td>\n",
       "      <td>47.327011</td>\n",
       "      <td>47.571759</td>\n",
       "      <td>0.033169</td>\n",
       "      <td>159.561123</td>\n",
       "      <td>158.621180</td>\n",
       "      <td>160.434876</td>\n",
       "      <td>0.286015</td>\n",
       "      <td>159.536705</td>\n",
       "      <td>158.476909</td>\n",
       "      <td>...</td>\n",
       "      <td>303.245653</td>\n",
       "      <td>159.537055</td>\n",
       "      <td>158.476909</td>\n",
       "      <td>160.661588</td>\n",
       "      <td>0.299203</td>\n",
       "      <td>48.084284</td>\n",
       "      <td>47.694132</td>\n",
       "      <td>48.496002</td>\n",
       "      <td>0.042734</td>\n",
       "      <td>TSA43005120C00NG310288~T05~20220731100309_NOK_...</td>\n",
       "    </tr>\n",
       "    <tr>\n",
       "      <th>83</th>\n",
       "      <td>NaN</td>\n",
       "      <td>NaN</td>\n",
       "      <td>NaN</td>\n",
       "      <td>NaN</td>\n",
       "      <td>NaN</td>\n",
       "      <td>NaN</td>\n",
       "      <td>NaN</td>\n",
       "      <td>NaN</td>\n",
       "      <td>NaN</td>\n",
       "      <td>NaN</td>\n",
       "      <td>...</td>\n",
       "      <td>NaN</td>\n",
       "      <td>NaN</td>\n",
       "      <td>NaN</td>\n",
       "      <td>NaN</td>\n",
       "      <td>NaN</td>\n",
       "      <td>NaN</td>\n",
       "      <td>NaN</td>\n",
       "      <td>NaN</td>\n",
       "      <td>NaN</td>\n",
       "      <td>TSA43005104F00NG290392~T05~20220729225439_NOK_...</td>\n",
       "    </tr>\n",
       "  </tbody>\n",
       "</table>\n",
       "<p>84 rows × 201 columns</p>\n",
       "</div>"
      ],
      "text/plain": [
       "       3_mean      3_min      3_max     3_std      4_mean       4_min  \\\n",
       "0   55.509217  55.400468  55.635555  0.033358  159.423954  158.683011   \n",
       "1   56.123194  55.973694  56.324715  0.033768  159.768782  158.889112   \n",
       "2   55.421421  55.274874  55.542165  0.034044  159.365958  158.579960   \n",
       "3   55.513786  55.329620  55.619454  0.033745  159.205046  158.188366   \n",
       "4   55.322995  55.223348  55.451994  0.032983  159.241237  158.579960   \n",
       "..        ...        ...        ...       ...         ...         ...   \n",
       "79  46.855256  46.734465  46.985653  0.032238  159.601813  158.744841   \n",
       "80  47.521933  47.355994  47.668369  0.033205  159.530707  158.662400   \n",
       "81  47.520944  47.391418  47.707014  0.033517  159.585619  158.786061   \n",
       "82  47.452814  47.327011  47.571759  0.033169  159.561123  158.621180   \n",
       "83        NaN        NaN        NaN       NaN         NaN         NaN   \n",
       "\n",
       "         4_max     4_std    389_mean     389_min  ...     252_std    381_mean  \\\n",
       "0   160.311215  0.276533  159.306343  156.477721  ...  239.669899  159.314369   \n",
       "1   160.496707  0.271668  159.587332  158.126536  ...  299.724315  159.596877   \n",
       "2   160.414266  0.284943         NaN         NaN  ...  305.569488         NaN   \n",
       "3   160.228774  0.259936  159.184998  157.837993  ...  303.663750  159.193566   \n",
       "4   160.105113  0.246394         NaN         NaN  ...         NaN         NaN   \n",
       "..         ...       ...         ...         ...  ...         ...         ...   \n",
       "79  160.352436  0.264746  159.594202  158.497519  ...  301.332354  159.605724   \n",
       "80  160.373046  0.287754         NaN         NaN  ...  301.982416         NaN   \n",
       "81  160.311215  0.274192         NaN         NaN  ...         NaN         NaN   \n",
       "82  160.434876  0.286015  159.536705  158.476909  ...  303.245653  159.537055   \n",
       "83         NaN       NaN         NaN         NaN  ...         NaN         NaN   \n",
       "\n",
       "       381_min     381_max   381_std   127_mean    127_min    127_max  \\\n",
       "0   158.415078  160.290605  0.262876  55.752805  55.406909  56.128272   \n",
       "1   158.250197  160.640978  0.297429  55.142437  54.772496  55.735387   \n",
       "2          NaN         NaN       NaN  55.511204  54.930294  55.889965   \n",
       "3   158.250197  160.723419  0.255013  55.546118  54.930294  56.102509   \n",
       "4          NaN         NaN       NaN  55.475696  55.113855  56.054204   \n",
       "..         ...         ...       ...        ...        ...        ...   \n",
       "79  158.250197  160.991351  0.278761  47.350082  46.718363  47.951761   \n",
       "80         NaN         NaN       NaN  48.039345  47.655488  48.657021   \n",
       "81         NaN         NaN       NaN  48.057023  47.500911  48.431595   \n",
       "82  158.476909  160.661588  0.299203  48.084284  47.694132  48.496002   \n",
       "83         NaN         NaN       NaN        NaN        NaN        NaN   \n",
       "\n",
       "     127_std                                                 id  \n",
       "0   0.041413  TSA43005104F00NG200553~T05~20220721162607_NOK_...  \n",
       "1   0.046296  TSA43005104F00NG200654~T05~20220721180723_NOK_...  \n",
       "2   0.041724  TSA43005104F00NG200935~T05~20220721210606_NOK_...  \n",
       "3   0.042227  TSA43005104F00NG210131~T05~20220722024158_NOK_...  \n",
       "4   0.041050  TSA43005104F00NG210638~T05~20220722154535_NOK_...  \n",
       "..       ...                                                ...  \n",
       "79  0.051680  TSA43005120C00NG310204~T05~20220731093318_NOK_...  \n",
       "80  0.049043  TSA43005120C00NG310271~T05~20220731095241_NOK_...  \n",
       "81  0.050972  TSA43005120C00NG310282~T05~20220731095523_NOK_...  \n",
       "82  0.042734  TSA43005120C00NG310288~T05~20220731100309_NOK_...  \n",
       "83       NaN  TSA43005104F00NG290392~T05~20220729225439_NOK_...  \n",
       "\n",
       "[84 rows x 201 columns]"
      ]
     },
     "execution_count": 19,
     "metadata": {},
     "output_type": "execute_result"
    }
   ],
   "source": [
    "data_NG[true_feature_names]"
   ]
  },
  {
   "cell_type": "code",
   "execution_count": 20,
   "id": "b21dd43f",
   "metadata": {},
   "outputs": [],
   "source": [
    "data_NG[moved] = None"
   ]
  },
  {
   "cell_type": "code",
   "execution_count": null,
   "id": "4d4b15a3",
   "metadata": {},
   "outputs": [],
   "source": []
  }
 ],
 "metadata": {
  "kernelspec": {
   "display_name": "base",
   "language": "python",
   "name": "python3"
  },
  "language_info": {
   "codemirror_mode": {
    "name": "ipython",
    "version": 3
   },
   "file_extension": ".py",
   "mimetype": "text/x-python",
   "name": "python",
   "nbconvert_exporter": "python",
   "pygments_lexer": "ipython3",
   "version": "3.9.7"
  },
  "toc": {
   "base_numbering": 1,
   "nav_menu": {},
   "number_sections": true,
   "sideBar": true,
   "skip_h1_title": false,
   "title_cell": "Table of Contents",
   "title_sidebar": "Contents",
   "toc_cell": false,
   "toc_position": {},
   "toc_section_display": true,
   "toc_window_display": false
  },
  "vscode": {
   "interpreter": {
    "hash": "7ddcf09acb84ee8d9c74b467d55b605b18b0deb8ae0e9e908e38f687216d25c4"
   }
  }
 },
 "nbformat": 4,
 "nbformat_minor": 5
}
