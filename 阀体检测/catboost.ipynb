{
 "cells": [
  {
   "cell_type": "code",
   "execution_count": null,
   "metadata": {},
   "outputs": [],
   "source": [
    "import catboost as cb\n",
    "import pandas as pd\n",
    "from sklearn.utils import shuffle\n",
    "import numpy as np\n",
    "from sklearn.model_selection import StratifiedKFold,KFold\n",
    "import joblib\n",
    "import os\n",
    "from sklearn.metrics import f1_score\n",
    "import datetime\n",
    "pd.set_option('display.max_columns', 100) # 设置显示最大列数"
   ]
  },
  {
   "cell_type": "code",
   "execution_count": null,
   "metadata": {},
   "outputs": [],
   "source": [
    "data = pd.read_csv('../data/data_4feature_all.csv')"
   ]
  },
  {
   "cell_type": "code",
   "execution_count": null,
   "metadata": {},
   "outputs": [],
   "source": [
    "coloums_list = joblib.load('../data/coloums_list')"
   ]
  },
  {
   "cell_type": "code",
   "execution_count": null,
   "metadata": {},
   "outputs": [],
   "source": [
    "cut_data = data[coloums_list]"
   ]
  },
  {
   "cell_type": "code",
   "execution_count": null,
   "metadata": {},
   "outputs": [],
   "source": [
    "feas=[i  for i in cut_data.columns.tolist() if i not in ['id','label']]\n",
    "\n",
    "x_train = cut_data[feas]\n",
    "y_train = cut_data['label']\n",
    "folds = 5\n",
    "seed = 2023\n",
    "kf = StratifiedKFold(n_splits=folds, shuffle=True, random_state=seed)\n",
    "\n",
    "cv_scores = []\n",
    "test_pre = []\n",
    "Feass = pd.DataFrame()\n",
    "train = np.zeros(x_train.shape[0])\n",
    "\n",
    "current_time = datetime.datetime.now()\n",
    "current_time = str(current_time).replace(' ','-')\n",
    "os.mkdir('../log/'+current_time)\n",
    "models = []\n",
    "\n",
    "params={\n",
    "    'loss_function': 'Logloss', # 损失函数，取值RMSE, Logloss, MAE, CrossEntropy, Quantile, LogLinQuantile, Multiclass, MultiClassOneVsAll, MAPE, Poisson。默认Logloss。\n",
    "    'custom_loss': 'F1', # 训练过程中计算显示的损失函数，取值Logloss、CrossEntropy、Precision、Recall、F、F1、BalancedAccuracy、AUC等等\n",
    "    'eval_metric': 'F1', # 用于过度拟合检测和最佳模型选择的指标，取值范围同custom_loss\n",
    "    'iterations': 500, # 最大迭代次数，默认500. 别名：num_boost_round, n_estimators, num_trees\n",
    "    'learning_rate': 0.15, # 学习速率,默认0.03 别名：eta\n",
    "    'random_seed': 2023, # 训练的随机种子，别名：random_state\n",
    "    'subsample': 0.9, # 样本采样比率（行采样）\n",
    "    'use_best_model': True, # 让模型使用效果最优的子树棵树/迭代次数，使用验证集的最优效果对应的迭代次数（eval_metric：评估指标，eval_set：验证集数据），布尔类型可取值0，1（取1时要求设置验证集数据）\n",
    "    'depth': 7, # 树深，默认值6\n",
    "    'nan_mode': 'Max', # 缺失值处理方法，取值Forbidden（不支持缺失值，输入包含缺失时会报错）、Min（处理为该列的最小值，比原最小值更小）、Max（同理）\n",
    "    # 'max_leaves': 12, # 最大叶子结点数量\n",
    "    'rsm': 0.9, # 列采样比率，别名colsample_bylevel 取值（0，1],默认值1\n",
    "    # 'nan_mode': 'Max', # 缺失值处理方法，取值Forbidden（不支持缺失值，输入包含缺失时会报错）、Min（处理为该列的最小值，比原最小值更小）、Max（同理）\n",
    "    'logging_level':'Silent', # 模型训练过程的信息输出等级，取值Silent（不输出信息）、Verbose（默认值，输出评估指标、已训练时间、剩余时间等）、Info（输出额外信息、树的棵树）、Debug（debug信息）\n",
    "    'early_stopping_rounds': 50,\n",
    "}\n",
    "for i, (train_index, valid_index) in enumerate(kf.split(x_train, y_train)):\n",
    "    print('************************************ {} ************************************'.format(str(i+1)))\n",
    "    trn_x, trn_y, val_x, val_y = x_train.iloc[train_index], y_train[train_index], x_train.iloc[valid_index], y_train[valid_index]\n",
    "    cbc = cb.CatBoostClassifier(**params)\n",
    "    cbc.fit(trn_x, trn_y,eval_set=(val_x, val_y))\n",
    "    models.append(cbc)\n",
    "    joblib.dump(cbc, f\"../log/{current_time}/cbm_model{i+1}.pkl\")\n",
    "    proba = cbc.predict_proba(val_x)\n",
    "    val_pred = np.where(proba[:,0]>0.85,0,1)\n",
    "    train[valid_index] = val_pred\n",
    "    print(f1_score(val_pred,val_y))\n",
    "    # print(f1_score(cbc.predict(val_x),val_y))\n",
    "f1 = f1_score(y_train,train)\n",
    "print(f1)\n",
    "os.rename(f'../log/{current_time}',f'../log/{f1}')"
   ]
  }
 ],
 "metadata": {
  "kernelspec": {
   "display_name": "base",
   "language": "python",
   "name": "python3"
  },
  "language_info": {
   "name": "python",
   "version": "3.9.7"
  },
  "orig_nbformat": 4,
  "vscode": {
   "interpreter": {
    "hash": "7ddcf09acb84ee8d9c74b467d55b605b18b0deb8ae0e9e908e38f687216d25c4"
   }
  }
 },
 "nbformat": 4,
 "nbformat_minor": 2
}
